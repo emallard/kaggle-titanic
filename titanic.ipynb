{
 "cells": [
  {
   "cell_type": "markdown",
   "metadata": {},
   "source": [
    "This is a classification problem:\n",
    "\n",
    "Cheat sheet\n",
    "https://www.datacamp.com/cheat-sheet/scikit-learn-cheat-sheet-python-machine-learning\n",
    "https://images.datacamp.com/image/upload/v1676302389/Marketing/Blog/Scikit-Learn_Cheat_Sheet.pdf\n",
    "\n",
    "https://www.datacamp.com/blog/classification-machine-learning\n",
    "Lazy Learners Vs. Eager Learners\n",
    "There are two types of learners in machine learning classification: lazy and eager learners. \n",
    "\n",
    "Eager learners are machine learning algorithms that first build a model from the training dataset before making any prediction on future datasets. They spend more time during the training process because of their eagerness to have a better generalization during the training from learning the weights, but they require less time to make predictions. \n",
    "\n",
    "Most machine learning algorithms are eager learners, and below are some examples: \n",
    "- Logistic Regression. \n",
    "- Support Vector Machine. \n",
    "- Decision Trees. \n",
    "- Artificial Neural Networks. \n",
    "\n",
    "Lazy learners or instance-based learners, on the other hand, do not create any model immediately from the training data, and this is where the lazy aspect comes from. They just memorize the training data, and each time there is a need to make a prediction, they search for the nearest neighbor from the whole training data, which makes them very slow during prediction. Some examples of this kind are: \n",
    "\n",
    "- K-Nearest Neighbor. \n",
    "- Case-based reasoning. \n",
    "However, some algorithms, such as BallTrees and KDTrees, can be used to improve the prediction latency. "
   ]
  },
  {
   "cell_type": "code",
   "execution_count": 41,
   "metadata": {},
   "outputs": [
    {
     "name": "stdout",
     "output_type": "stream",
     "text": [
      "Index(['PassengerId', 'Survived', 'Pclass', 'Name', 'Sex', 'Age', 'SibSp',\n",
      "       'Parch', 'Ticket', 'Fare', 'Cabin', 'Embarked'],\n",
      "      dtype='object')\n",
      "   PassengerId  Survived  Pclass  \\\n",
      "0            1         0       3   \n",
      "1            2         1       1   \n",
      "2            3         1       3   \n",
      "3            4         1       1   \n",
      "4            5         0       3   \n",
      "\n",
      "                                                Name     Sex   Age  SibSp  \\\n",
      "0                            Braund, Mr. Owen Harris    male  22.0      1   \n",
      "1  Cumings, Mrs. John Bradley (Florence Briggs Th...  female  38.0      1   \n",
      "2                             Heikkinen, Miss. Laina  female  26.0      0   \n",
      "3       Futrelle, Mrs. Jacques Heath (Lily May Peel)  female  35.0      1   \n",
      "4                           Allen, Mr. William Henry    male  35.0      0   \n",
      "\n",
      "   Parch            Ticket     Fare Cabin Embarked  \n",
      "0      0         A/5 21171   7.2500   NaN        S  \n",
      "1      0          PC 17599  71.2833   C85        C  \n",
      "2      0  STON/O2. 3101282   7.9250   NaN        S  \n",
      "3      0            113803  53.1000  C123        S  \n",
      "4      0            373450   8.0500   NaN        S  \n",
      "1\n",
      "0.6296296296296297\n",
      "2\n",
      "0.47282608695652173\n",
      "3\n",
      "0.24236252545824846\n"
     ]
    }
   ],
   "source": [
    "import pandas as pd\n",
    "df0 = pd.read_csv(\"titanic/train.csv\")\n",
    "print(df0.columns)\n",
    "print(df0.head())\n",
    "\n",
    "import matplotlib.pyplot as plt\n",
    "#plt.scatter(df0['Age'], df0['Survived'])\n",
    "# Survived from passenger class\n",
    "for pclass in range(1,4):\n",
    "    print(pclass)\n",
    "    print(df0[df0['Pclass'] == pclass]['Survived'].mean())"
   ]
  },
  {
   "cell_type": "markdown",
   "metadata": {},
   "source": [
    "Transform data\n",
    "Not interested in : 'Name', 'Ticket', 'Cabin', 'Embarked'\n"
   ]
  },
  {
   "cell_type": "code",
   "execution_count": null,
   "metadata": {},
   "outputs": [
    {
     "name": "stdout",
     "output_type": "stream",
     "text": [
      "['PassengerId' 'Survived' 'Pclass' 'Name' 'Sex' 'Age' 'SibSp' 'Parch'\n",
      " 'Ticket' 'Fare' 'Cabin' 'Embarked']\n",
      "['Fare' 'Survived' 'Pclass_1' 'Pclass_2' 'Pclass_3' 'Sex_female'\n",
      " 'Sex_male']\n",
      "Fare          0\n",
      "Survived      0\n",
      "Pclass_1      0\n",
      "Pclass_2      0\n",
      "Pclass_3      0\n",
      "Sex_female    0\n",
      "Sex_male      0\n",
      "dtype: int64\n"
     ]
    }
   ],
   "source": [
    "df = df0\n",
    "print(df.columns.values)\n",
    "#print(pd.isna(df).sum())\n",
    "for col in ['Pclass', 'Sex']:\n",
    "    df[col] = df[col].astype('category')\n",
    "#'SibSp', 'Parch'\n",
    "df = df[['Pclass', 'Sex', 'Fare', 'Age', 'Survived']]\n",
    "df = pd.get_dummies(df)\n",
    "print(df.columns.values)\n",
    "print(pd.isna(df).sum())\n",
    "print(df[df['Age'] == 0]['Age'])"
   ]
  },
  {
   "cell_type": "markdown",
   "metadata": {},
   "source": [
    "Split into train and test"
   ]
  },
  {
   "cell_type": "code",
   "execution_count": null,
   "metadata": {},
   "outputs": [
    {
     "ename": "ImportError",
     "evalue": "cannot import name 'Imputer' from 'sklearn.preprocessing' (c:\\Users\\calov\\Documents\\Etienne\\kaggle-titanic\\env\\Lib\\site-packages\\sklearn\\preprocessing\\__init__.py)",
     "output_type": "error",
     "traceback": [
      "\u001b[1;31m---------------------------------------------------------------------------\u001b[0m",
      "\u001b[1;31mImportError\u001b[0m                               Traceback (most recent call last)",
      "Cell \u001b[1;32mIn[58], line 8\u001b[0m\n\u001b[0;32m      3\u001b[0m \u001b[38;5;28;01mfrom\u001b[39;00m \u001b[38;5;21;01msklearn\u001b[39;00m\u001b[38;5;21;01m.\u001b[39;00m\u001b[38;5;21;01mmodel_selection\u001b[39;00m \u001b[38;5;28;01mimport\u001b[39;00m train_test_split\n\u001b[0;32m      4\u001b[0m \u001b[38;5;66;03m#from sklearn.preprocessing import LabelEncoder\u001b[39;00m\n\u001b[0;32m      5\u001b[0m \u001b[38;5;66;03m#labelEncoder = LabelEncoder()\u001b[39;00m\n\u001b[0;32m      6\u001b[0m \u001b[38;5;66;03m#'SibSp','Parch'\u001b[39;00m\n\u001b[1;32m----> 8\u001b[0m \u001b[38;5;28;01mfrom\u001b[39;00m \u001b[38;5;21;01msklearn\u001b[39;00m\u001b[38;5;21;01m.\u001b[39;00m\u001b[38;5;21;01mpreprocessing\u001b[39;00m \u001b[38;5;28;01mimport\u001b[39;00m Imputer\n\u001b[0;32m     10\u001b[0m X \u001b[38;5;241m=\u001b[39m df[[\u001b[38;5;124m'\u001b[39m\u001b[38;5;124mFare\u001b[39m\u001b[38;5;124m'\u001b[39m,\u001b[38;5;124m'\u001b[39m\u001b[38;5;124mPclass_1\u001b[39m\u001b[38;5;124m'\u001b[39m,\u001b[38;5;124m'\u001b[39m\u001b[38;5;124mPclass_2\u001b[39m\u001b[38;5;124m'\u001b[39m,\u001b[38;5;124m'\u001b[39m\u001b[38;5;124mPclass_3\u001b[39m\u001b[38;5;124m'\u001b[39m, \u001b[38;5;124m'\u001b[39m\u001b[38;5;124mSex_female\u001b[39m\u001b[38;5;124m'\u001b[39m,\u001b[38;5;124m'\u001b[39m\u001b[38;5;124mSex_male\u001b[39m\u001b[38;5;124m'\u001b[39m]] \u001b[38;5;66;03m#'Age'\u001b[39;00m\n\u001b[0;32m     11\u001b[0m y \u001b[38;5;241m=\u001b[39m df[[\u001b[38;5;124m'\u001b[39m\u001b[38;5;124mSurvived\u001b[39m\u001b[38;5;124m'\u001b[39m]]\n",
      "\u001b[1;31mImportError\u001b[0m: cannot import name 'Imputer' from 'sklearn.preprocessing' (c:\\Users\\calov\\Documents\\Etienne\\kaggle-titanic\\env\\Lib\\site-packages\\sklearn\\preprocessing\\__init__.py)"
     ]
    }
   ],
   "source": [
    "from sklearn import neighbors, preprocessing\n",
    "from sklearn.metrics import accuracy_score\n",
    "from sklearn.model_selection import train_test_split\n",
    "#from sklearn.preprocessing import LabelEncoder\n",
    "#labelEncoder = LabelEncoder()\n",
    "#'SibSp','Parch'\n",
    "\n",
    "from sklearn.impute import SimpleImputer\n",
    "\n",
    "X = df[['Fare','Pclass_1','Pclass_2','Pclass_3', 'Sex_female','Sex_male']] #'Age'\n",
    "y = df[['Survived']]\n",
    "X_train, X_test, y_train, y_test = train_test_split(X, y, random_state=33, test_size=0.2)\n",
    "\n",
    "imp = SimpleImputer(missing_values=np.Nan, strategy='mean', axis=0)\n",
    "imp.fit_transform(X_train)\n",
    "\n",
    "scaler = preprocessing.StandardScaler().fit(X_train)\n",
    "X_train = scaler.transform(X_train)\n",
    "X_test = scaler.transform(X_test)\n",
    "\n",
    "knn = neighbors.KNeighborsClassifier(n_neighbors=5)\n",
    "knn.fit(X_train, y_train)\n",
    "y_pred = knn.predict(X_test)\n",
    "print(accuracy_score(y_test, y_pred))\n",
    "\n",
    "from sklearn.svm import SVC\n",
    "svc = SVC(kernel='linear')\n",
    "svc.fit(X_train, y_train)\n",
    "y_pred = svc.predict(X_test)\n",
    "print(accuracy_score(y_test, y_pred))\n"
   ]
  },
  {
   "cell_type": "code",
   "execution_count": null,
   "metadata": {},
   "outputs": [
    {
     "name": "stdout",
     "output_type": "stream",
     "text": [
      "Age    177\n",
      "dtype: int64\n"
     ]
    }
   ],
   "source": [
    "print(df0[['Age']].isna().sum())"
   ]
  },
  {
   "cell_type": "markdown",
   "metadata": {},
   "source": []
  }
 ],
 "metadata": {
  "kernelspec": {
   "display_name": "env",
   "language": "python",
   "name": "python3"
  },
  "language_info": {
   "codemirror_mode": {
    "name": "ipython",
    "version": 3
   },
   "file_extension": ".py",
   "mimetype": "text/x-python",
   "name": "python",
   "nbconvert_exporter": "python",
   "pygments_lexer": "ipython3",
   "version": "3.12.2"
  }
 },
 "nbformat": 4,
 "nbformat_minor": 2
}
